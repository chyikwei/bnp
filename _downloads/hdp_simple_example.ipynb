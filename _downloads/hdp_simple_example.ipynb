{
  "nbformat_minor": 0, 
  "nbformat": 4, 
  "cells": [
    {
      "execution_count": null, 
      "cell_type": "code", 
      "source": [
        "%matplotlib inline"
      ], 
      "outputs": [], 
      "metadata": {
        "collapsed": false
      }
    }, 
    {
      "source": [
        "HDP on simple synthetic data\n\nThis is an simple example to show HDP can find\nhidden topics from doc-word matrix.\n\n"
      ], 
      "cell_type": "markdown", 
      "metadata": {}
    }, 
    {
      "execution_count": null, 
      "cell_type": "code", 
      "source": [
        "# Author: Chyi-Kwei Yau <chyikwei.yau@gmail.com>\n\nfrom __future__ import print_function\n\nfrom numpy.random import RandomState\n\nfrom bnp.online_hdp import HierarchicalDirichletProcess\nfrom bnp.utils import make_doc_word_matrix\n\nn_iter = 5\nn_topic_truncate = 10\nn_doc_truncate = 5\nn_top_words = 10\n\n\ndef print_top_words(model, n_words):\n    topic_distr = model.topic_distribution()\n    for topic_idx in range(model.lambda_.shape[0]):\n        topic = model.lambda_[topic_idx, :]\n        message = \"Topic #%d (%.3f): \" % (topic_idx, topic_distr[topic_idx])\n        message += \" \".join([str(i)\n                             for i in topic.argsort()[:-n_words - 1:-1]])\n        print(message)\n    print()\n\n\nrs = RandomState(100)\n\ntf = make_doc_word_matrix(n_topics=5,\n                          words_per_topic=10,\n                          docs_per_topic=500,\n                          words_per_doc=50,\n                          shuffle=True,\n                          random_state=rs)\n\nhdp = HierarchicalDirichletProcess(n_topic_truncate=n_topic_truncate,\n                                   n_doc_truncate=n_doc_truncate,\n                                   omega=2.0,\n                                   alpha=1.0,\n                                   max_iter=5,\n                                   verbose=1,\n                                   max_doc_update_iter=200,\n                                   random_state=100)\n\nhdp.fit(tf)\n\nprint(\"\\nTopics in HDP model:\")\nprint_top_words(hdp, n_top_words)"
      ], 
      "outputs": [], 
      "metadata": {
        "collapsed": false
      }
    }
  ], 
  "metadata": {
    "kernelspec": {
      "display_name": "Python 2", 
      "name": "python2", 
      "language": "python"
    }, 
    "language_info": {
      "mimetype": "text/x-python", 
      "nbconvert_exporter": "python", 
      "name": "python", 
      "file_extension": ".py", 
      "version": "2.7.11", 
      "pygments_lexer": "ipython2", 
      "codemirror_mode": {
        "version": 2, 
        "name": "ipython"
      }
    }
  }
}